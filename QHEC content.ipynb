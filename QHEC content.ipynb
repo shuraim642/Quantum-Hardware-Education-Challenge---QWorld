{
 "cells": [
  {
   "cell_type": "markdown",
   "id": "c6ae97be",
   "metadata": {},
   "source": [
    "#### <center> Module Name: QGold"
   ]
  },
  {
   "cell_type": "markdown",
   "id": "974f12f7",
   "metadata": {},
   "source": [
    "## Team Name:\n",
    "# <center> Supremacy <W|Q>"
   ]
  },
  {
   "cell_type": "markdown",
   "id": "78298f7b",
   "metadata": {},
   "source": [
    "### Team Members:\n",
    "1) Muhammad Shuraim <br>\n",
    "2) Arpi Kundu <br>\n",
    "3) Nikhil Tiwari <br>\n",
    "4) Monika "
   ]
  },
  {
   "cell_type": "markdown",
   "id": "d7061f4f",
   "metadata": {},
   "source": [
    " * **Pre-Requisites of this module:**\n",
    "    - High School Physics and Mathematics <br>\n",
    "    - QBronze <br>\n",
    "    - QSilver <br>\n",
    "    - Quantum Mechanics-I <br>\n",
    "    - Electronic Circuit Designs (for Superconducting Quantum Computing) <br>\n",
    "    - Polarization Optics (for Photonics Quantum Computing)"
   ]
  },
  {
   "cell_type": "markdown",
   "id": "a74956d7",
   "metadata": {},
   "source": [
    "### Our aim to include the following things in our module:\n",
    "\n",
    "[Physical Realization of Qubits](Physical_Realization_of_Qubits.ipynb)&nbsp;\n",
    "\n",
    "1) Superconducting Quantum Computers <br> 2) Photonics Quantum Computing\n",
    "\n",
    "[Physical Realization of Quantum Logical Operation](Physical_Realization_of_Operations.ipynb)\n",
    "\n",
    "1) NOT Gate <br> 2) Phase Gate <br> 3) Hadamard Gate <br> 4) Controlled NOT Gate\n"
   ]
  },
  {
   "cell_type": "code",
   "execution_count": 2,
   "id": "9eb4ab54",
   "metadata": {},
   "outputs": [],
   "source": []
  },
  {
   "cell_type": "code",
   "execution_count": 3,
   "id": "52213638",
   "metadata": {},
   "outputs": [
    {
     "name": "stdout",
     "output_type": "stream",
     "text": [
      "Reset css and font defaults in:\n",
      "C:\\Users\\Muhammad Shuraim\\.jupyter\\custom &\n",
      "C:\\Users\\Muhammad Shuraim\\AppData\\Roaming\\jupyter\\nbextensions\n"
     ]
    }
   ],
   "source": []
  },
  {
   "cell_type": "code",
   "execution_count": null,
   "id": "4b6be6d9",
   "metadata": {},
   "outputs": [],
   "source": []
  }
 ],
 "metadata": {
  "kernelspec": {
   "display_name": "Python 3 (ipykernel)",
   "language": "python",
   "name": "python3"
  },
  "language_info": {
   "codemirror_mode": {
    "name": "ipython",
    "version": 3
   },
   "file_extension": ".py",
   "mimetype": "text/x-python",
   "name": "python",
   "nbconvert_exporter": "python",
   "pygments_lexer": "ipython3",
   "version": "3.10.5"
  }
 },
 "nbformat": 4,
 "nbformat_minor": 5
}
