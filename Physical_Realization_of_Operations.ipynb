{
 "cells": [
  {
   "cell_type": "markdown",
   "id": "da6280c3",
   "metadata": {},
   "source": [
    "In this module, we are going to include the physical realzation of Quantum Logic Operations. As there are plenty of Quantum Logic Operations. But we are here considering some fundamental operations used in the Quantum Hardware to process information. Those operations which are considered in this module are as following:"
   ]
  },
  {
   "cell_type": "markdown",
   "id": "9a1ce5ee",
   "metadata": {},
   "source": [
    "1) **NOT Gate** <br>\n",
    "2) **Phase Gate** <br>\n",
    "3) **Hadamard Gate** <br>\n",
    "4) **Controlled NOT Gate**"
   ]
  },
  {
   "cell_type": "code",
   "execution_count": null,
   "id": "7e3b6a9b",
   "metadata": {},
   "outputs": [],
   "source": []
  }
 ],
 "metadata": {
  "kernelspec": {
   "display_name": "Python 3 (ipykernel)",
   "language": "python",
   "name": "python3"
  },
  "language_info": {
   "codemirror_mode": {
    "name": "ipython",
    "version": 3
   },
   "file_extension": ".py",
   "mimetype": "text/x-python",
   "name": "python",
   "nbconvert_exporter": "python",
   "pygments_lexer": "ipython3",
   "version": "3.10.5"
  }
 },
 "nbformat": 4,
 "nbformat_minor": 5
}
